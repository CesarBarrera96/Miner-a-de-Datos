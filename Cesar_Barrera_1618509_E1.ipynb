{
 "cells": [
  {
   "cell_type": "markdown",
   "metadata": {},
   "source": [
    "Segundo examen parcial\n",
    "Alumno: César Alejandro Barrera Martínez \n",
    "Mat:1618509 \n",
    "Gpo: 001"
   ]
  },
  {
   "cell_type": "markdown",
   "metadata": {},
   "source": [
    "1.0.1  1.- Dando lista A = [3, 2, 7, 4, 12, 9, 6, 1] desarrolla los siguientes 3 ejercicios."
   ]
  },
  {
   "cell_type": "markdown",
   "metadata": {},
   "source": [
    "A)Imprime la sumatoria de todos los elementos."
   ]
  },
  {
   "cell_type": "code",
   "execution_count": 1,
   "metadata": {},
   "outputs": [
    {
     "data": {
      "text/plain": [
       "44"
      ]
     },
     "execution_count": 1,
     "metadata": {},
     "output_type": "execute_result"
    }
   ],
   "source": [
    " A = [3, 2, 7, 4, 12, 9, 6, 1] \n",
    " sum(A)"
   ]
  },
  {
   "cell_type": "markdown",
   "metadata": {},
   "source": [
    "B)Ordenalos de mayor a menor."
   ]
  },
  {
   "cell_type": "code",
   "execution_count": 8,
   "metadata": {},
   "outputs": [
    {
     "name": "stdout",
     "output_type": "stream",
     "text": [
      "[12, 9, 7, 6, 4, 3, 2, 1]\n"
     ]
    }
   ],
   "source": [
    "def ordburbuja(A):\n",
    " \n",
    "    for dato in range(len(A)-1,0,-1):\n",
    " \n",
    "        for i in range(dato):\n",
    " \n",
    "            if A[i]<A[i+1]:\n",
    " \n",
    "                temp = A[i]\n",
    " \n",
    "                A[i] = A[i+1]\n",
    " \n",
    "                A[i+1] = temp\n",
    " \n",
    " \n",
    "A = [3, 2, 7, 4, 12, 9, 6, 1]\n",
    " \n",
    "ordburbuja(A)\n",
    " \n",
    "print(A)"
   ]
  },
  {
   "cell_type": "markdown",
   "metadata": {},
   "source": [
    "C)Haz una nueva lista pero solo con sus elementos pares"
   ]
  },
  {
   "cell_type": "code",
   "execution_count": 11,
   "metadata": {},
   "outputs": [
    {
     "data": {
      "text/plain": [
       "[2, 4, 12, 6]"
      ]
     },
     "execution_count": 11,
     "metadata": {},
     "output_type": "execute_result"
    }
   ],
   "source": [
    "A = [3, 2, 7, 4, 12, 9, 6, 1]\n",
    "b=[]\n",
    "for num in A: \n",
    "    if num % 2 == 0:\n",
    "       b.append(num)\n",
    "b"
   ]
  },
  {
   "cell_type": "markdown",
   "metadata": {},
   "source": [
    "1.0.2  2.- Dale valor a dos variables y realiza 5 funciones que regresen como resultado difer-\n",
    "entes operaciones aritmeticas (suma, resta, etc...)."
   ]
  },
  {
   "cell_type": "code",
   "execution_count": 12,
   "metadata": {},
   "outputs": [
    {
     "name": "stdout",
     "output_type": "stream",
     "text": [
      "18\n",
      "-2\n",
      "80\n",
      "0.8\n",
      "8\n"
     ]
    }
   ],
   "source": [
    "A=8\n",
    "B=10\n",
    "\n",
    "def suma(A,B):\n",
    "   return A + B\n",
    "def resta(A,B):\n",
    "   return A - B\n",
    "def multiplicacion(A,B):\n",
    "   return A * B\n",
    "def divicion(A,B):\n",
    "   return A / B\n",
    "def residuo(A,B):\n",
    "   return A % B\n",
    "\n",
    "print(suma(A,B))\n",
    "print(resta(A,B))\n",
    "print(multiplicacion(A,B))\n",
    "print(divicion(A,B))\n",
    "print(residuo(A,B))\n",
    "    "
   ]
  },
  {
   "cell_type": "markdown",
   "metadata": {},
   "source": [
    "1.0.3  3.- Dada la lista A = [3, 2, 7, 4, 12, 9, 6, 1] y lista B = [13, 16, 21, 34, 18, 17, 11, 10] crea una\n",
    "lista nueva que contenga solo los datos impares de ambas listas."
   ]
  },
  {
   "cell_type": "code",
   "execution_count": 25,
   "metadata": {},
   "outputs": [
    {
     "data": {
      "text/plain": [
       "[3, 7, 9, 1, 3, 7, 9, 1, 13, 21, 17, 11]"
      ]
     },
     "execution_count": 25,
     "metadata": {},
     "output_type": "execute_result"
    }
   ],
   "source": [
    "A = [3, 2, 7, 4, 12, 9, 6, 1]\n",
    "B = [13, 16, 21, 34, 18, 17, 11, 10] \n",
    "\n",
    "for num in A: \n",
    "    if num % 2 != 0:\n",
    "       b.append(num)\n",
    "\n",
    "for num in B: \n",
    "    if num % 2 != 0:\n",
    "       b.append(num)\n",
    "b"
   ]
  },
  {
   "cell_type": "markdown",
   "metadata": {},
   "source": [
    "1.0.4 4.- Dadas las variables W = 11, X = 17, Y = 32, Z = 65, crea una función que clasiﬁque por grupos de edad (niño, adolecente, adulto, adulto mayor. (Utiliza el elif) "
   ]
  },
  {
   "cell_type": "code",
   "execution_count": 33,
   "metadata": {},
   "outputs": [
    {
     "name": "stdout",
     "output_type": "stream",
     "text": [
      "La edad es de un niño\n",
      " \n",
      "La edad es de un adolescente\n",
      " \n",
      "La edad es de un adulto\n",
      " \n",
      "La edad es de un adulto mayor\n",
      " \n"
     ]
    }
   ],
   "source": [
    "X = 9\n",
    "B = 17\n",
    "C = 35\n",
    "D = 80\n",
    "\n",
    "def edades(edad): \n",
    "    if edad<12:\n",
    "        print(\"La edad es de un niño\")    \n",
    "    elif edad>=12 and edad<18:        \n",
    "        print(\"La edad es de un adolescente\")    \n",
    "    elif edad>=18 and edad<60:            \n",
    "        print(\"La edad es de un adulto\")    \n",
    "    elif edad>=60 and edad<100:        \n",
    "        print(\"La edad es de un adulto mayor\")    \n",
    "    return \" \"\n",
    "\n",
    "print(edades(X)) \n",
    "print(edades(B)) \n",
    "print(edades(C)) \n",
    "print(edades(D))\n"
   ]
  },
  {
   "cell_type": "markdown",
   "metadata": {},
   "source": [
    "1.0.5 5.- Utilizando cualquiera de las condicionales (for, if, while...) imprime los siguientes patrones tal y como aparecen en el comentario, respetando los espacios y los saltos de renglon. "
   ]
  },
  {
   "cell_type": "code",
   "execution_count": 44,
   "metadata": {},
   "outputs": [
    {
     "name": "stdout",
     "output_type": "stream",
     "text": [
      "\t\n",
      "1 \t\n",
      "2 2 \t\n",
      "3 3 3 \t\n",
      "4 4 4 4 \t\n",
      "5 5 5 5 5 \t\n"
     ]
    }
   ],
   "source": [
    "for num in range(6): \n",
    "    H=num\n",
    "    for num in range(num): \n",
    "        print (H, end=\" \") \n",
    "    print(\"\\t\")\n"
   ]
  },
  {
   "cell_type": "code",
   "execution_count": 47,
   "metadata": {},
   "outputs": [
    {
     "name": "stdout",
     "output_type": "stream",
     "text": [
      "5 4 3 2 1 \t\n",
      "4 3 2 1 \t\n",
      "3 2 1 \t\n",
      "2 1 \t\n",
      "1 \t\n"
     ]
    }
   ],
   "source": [
    "H=6 \n",
    "for num in range(5): \n",
    "    aux=H \n",
    "    H=H-1 \n",
    "    for num in range(5-num): \n",
    "        aux=aux-1 \n",
    "        print (aux, end=\" \") \n",
    "    print(\"\\t\")\n"
   ]
  },
  {
   "cell_type": "markdown",
   "metadata": {},
   "source": [
    "1.0.6 6.- Con la lista A = [3, 2, 7, 4, 12, 9, 6, 1] y el uso de condicionales, imprime una nueva lista con cada uno de los elementos de la lista A, al cuadrado."
   ]
  },
  {
   "cell_type": "code",
   "execution_count": 53,
   "metadata": {},
   "outputs": [
    {
     "data": {
      "text/plain": [
       "[9, 4, 49, 16, 144, 81, 36, 1]"
      ]
     },
     "execution_count": 53,
     "metadata": {},
     "output_type": "execute_result"
    }
   ],
   "source": [
    "A = [3, 2, 7, 4, 12, 9, 6, 1] \n",
    "T=[] \n",
    "for num in A: \n",
    "    ele=pow(num,2) \n",
    "    T.append(ele) \n",
    "T\n"
   ]
  }
 ],
 "metadata": {
  "kernelspec": {
   "display_name": "Python 3",
   "language": "python",
   "name": "python3"
  },
  "language_info": {
   "codemirror_mode": {
    "name": "ipython",
    "version": 3
   },
   "file_extension": ".py",
   "mimetype": "text/x-python",
   "name": "python",
   "nbconvert_exporter": "python",
   "pygments_lexer": "ipython3",
   "version": "3.7.4"
  }
 },
 "nbformat": 4,
 "nbformat_minor": 2
}
